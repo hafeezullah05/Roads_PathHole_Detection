{
  "nbformat": 4,
  "nbformat_minor": 5,
  "metadata": {
    "kernelspec": {
      "display_name": "Python 3",
      "language": "python",
      "name": "python3"
    },
    "language_info": {
      "codemirror_mode": {
        "name": "ipython",
        "version": 3
      },
      "file_extension": ".py",
      "mimetype": "text/x-python",
      "name": "python",
      "nbconvert_exporter": "python",
      "pygments_lexer": "ipython3",
      "version": "3.8.3"
    },
    "colab": {
      "name": "DSProject_Raoad_PathHoleDetection.ipynb",
      "provenance": [],
      "include_colab_link": true
    }
  },
  "cells": [
    {
      "cell_type": "markdown",
      "metadata": {
        "id": "view-in-github",
        "colab_type": "text"
      },
      "source": [
        "<a href=\"https://colab.research.google.com/github/hafeezullah05/Roads_PathHole_Detection/blob/main/DSProject_Raoad_PathHoleDetection.ipynb\" target=\"_parent\"><img src=\"https://colab.research.google.com/assets/colab-badge.svg\" alt=\"Open In Colab\"/></a>"
      ]
    },
    {
      "cell_type": "markdown",
      "metadata": {
        "id": "08720e3f"
      },
      "source": [
        "# Data preparation"
      ],
      "id": "08720e3f"
    },
    {
      "cell_type": "markdown",
      "metadata": {
        "id": "c983ecd7"
      },
      "source": [
        "## DS1 Label transformation\n",
        "This part deals with the transformation of the labels into the YOLOv5 format."
      ],
      "id": "c983ecd7"
    },
    {
      "cell_type": "markdown",
      "metadata": {
        "id": "a5494aee"
      },
      "source": [
        "### Imports"
      ],
      "id": "a5494aee"
    },
    {
      "cell_type": "code",
      "metadata": {
        "id": "94cee4be"
      },
      "source": [
        "from PIL import Image\n",
        "import os\n",
        "from shutil import copyfile"
      ],
      "id": "94cee4be",
      "execution_count": null,
      "outputs": []
    },
    {
      "cell_type": "markdown",
      "metadata": {
        "id": "3d7de00d"
      },
      "source": [
        "### Read Test Data Labels"
      ],
      "id": "3d7de00d"
    },
    {
      "cell_type": "code",
      "metadata": {
        "id": "8692bab0"
      },
      "source": [
        "# Saves Lines in list\n",
        "\n",
        "input_labels_test = \"DS1\\simpleTestFullSizeAllPotholesSortedFullAnnotation.txt\"\n",
        "with open(input_labels_test) as file:\n",
        "    lines = []\n",
        "    for line in file:\n",
        "        lines.append(line.strip().replace(\"  \",\"\"))\n",
        "\n",
        "file.close()\n",
        "\n",
        "# Example [\"Test data\\G0011476.bmp 2 2176 1580 242 44 1726 1458 106 26 \"]\n",
        "#lines[0]"
      ],
      "id": "8692bab0",
      "execution_count": null,
      "outputs": []
    },
    {
      "cell_type": "markdown",
      "metadata": {
        "id": "8bec4c42"
      },
      "source": [
        "### Create New Labels for Test Data"
      ],
      "id": "8bec4c42"
    },
    {
      "cell_type": "code",
      "metadata": {
        "id": "45c2d377"
      },
      "source": [
        "# for Test data\n",
        "error_log_test = open(\"ErrorLogTest.txt\",\"w+\")\n",
        "imgLabelNameTest = []\n",
        "\n",
        "for line in lines:\n",
        "\n",
        " # Gain Information \n",
        "    line_list = line.split()\n",
        "    name = line_list[1].replace(\"data\\\\\",\" \").replace(\".bmp\", \"\").strip()\n",
        "    num_potholes = int(line_list[2])\n",
        "    \n",
        "    image_path = \"DS1\\TestData\\\\\" + name + \".JPG\"\n",
        "    try:\n",
        "        im = Image.open(image_path)\n",
        "        img_width, img_height = im.size\n",
        "    \n",
        "      # gain information for individual potholes\n",
        "        potholes = []\n",
        "        for n in range(0,num_potholes):\n",
        "        #x_center, y_center, width, height\n",
        "            potholes.append([(int(line_list[3+4*n]) + int(line_list[5+4*n])/2) / img_width,\n",
        "                             (int(line_list[4+4*n]) + int(line_list[6+4*n])/2) / img_height,\n",
        "                             int(line_list[4+4*n]) / img_width,\n",
        "                             int(line_list[5+4*n]) / img_height])\n",
        "    \n",
        "      #Write new file\n",
        "        path = \"DS1_new\\labels\\Test\"\n",
        "        new_file = open(path + \"\\\\\" + name+ \".txt\", \"w+\")\n",
        "        for n in range (0, num_potholes): \n",
        "            new_file.write(\"0 %f %f %f %f\\n\" %(potholes[n][0], potholes[n][1], potholes[n][2], potholes[n][3]))\n",
        "        new_file.close()\n",
        "        imgLabelNameTest.append(name)\n",
        "    except:\n",
        "        error_log_test.write(\"%s resulted in error\\n\" %name)\n",
        "error_log_test.close()"
      ],
      "id": "45c2d377",
      "execution_count": null,
      "outputs": []
    },
    {
      "cell_type": "markdown",
      "metadata": {
        "id": "110ca639"
      },
      "source": [
        "### Read Training Data Labels"
      ],
      "id": "110ca639"
    },
    {
      "cell_type": "code",
      "metadata": {
        "id": "59c585d3",
        "outputId": "4191bbb9-27a6-4abe-8554-e0fbbd14252f"
      },
      "source": [
        "# Saves Lines in list\n",
        "\n",
        "input_labels_test = \"DS1\\simpleTrainFullPhotosSortedFullAnnotations.txt\"\n",
        "with open(input_labels_test) as file:\n",
        "    lines = []\n",
        "    for line in file:\n",
        "        lines.append(line.strip().replace(\"  \",\"\"))\n",
        "\n",
        "file.close()\n",
        "\n",
        "# Example: \"Train data\\Positive data\\G0010110.bmp 2 2002 1370 58 18 1896 1342 50 16\"\n",
        "lines[0]"
      ],
      "id": "59c585d3",
      "execution_count": null,
      "outputs": [
        {
          "output_type": "execute_result",
          "data": {
            "text/plain": [
              "'Train data\\\\Positive data\\\\G0010033.bmp 6 1990 1406 66 14 1464 1442 92 16 1108 1450 54 16 558 1434 102 16 338 1450 72 18 262 1450 58 22'"
            ]
          },
          "metadata": {
            "tags": []
          },
          "execution_count": 4
        }
      ]
    },
    {
      "cell_type": "markdown",
      "metadata": {
        "id": "f64ec2b5"
      },
      "source": [
        "### Create New Labels for Training Data\n",
        "(Note: only images with potholes are considered)"
      ],
      "id": "f64ec2b5"
    },
    {
      "cell_type": "code",
      "metadata": {
        "id": "e47c1038"
      },
      "source": [
        "# for Train data\n",
        "error_log_train = open(\"ErrorLogTrain.txt\",\"w+\")\n",
        "imgLabelNameTrain = []\n",
        "\n",
        "\n",
        "for line in lines:\n",
        "\n",
        " # Gain Information \n",
        "    line_list = line.split()\n",
        "    name = line_list[2].replace(\"data\\\\\",\" \").replace(\".bmp\", \"\").strip()\n",
        "    num_potholes = int(line_list[3])\n",
        "            \n",
        "    image_path = \"DS1\\TrainData\\PositiveData\\\\\" + name + \".JPG\"\n",
        "    try:\n",
        "        im = Image.open(image_path)\n",
        "        img_width, img_height = im.size\n",
        "    \n",
        "      # gain information for individual potholes and change format\n",
        "        potholes = []\n",
        "        for n in range(0,num_potholes):\n",
        "        #x_center, y_center, width, height\n",
        "            potholes.append([(int(line_list[4+4*n]) + int(line_list[6+4*n])/2) / img_width,\n",
        "                             (int(line_list[5+4*n]) + int(line_list[7+4*n])/2) / img_height,\n",
        "                             int(line_list[5+4*n]) / img_width,\n",
        "                             int(line_list[6+4*n]) / img_height])\n",
        "    \n",
        "      #Write new file\n",
        "        path = \"DS1_new\\labels\\Train\"\n",
        "        new_file = open(path + \"\\\\\" + name + \".txt\", \"w+\")\n",
        "        for n in range (0, num_potholes): \n",
        "            new_file.write(\"0 %f %f %f %f\\n\" %(potholes[n][0], potholes[n][1], potholes[n][2], potholes[n][3]))\n",
        "        new_file.close()\n",
        "        imgLabelNameTrain.append(name)\n",
        "\n",
        "    except:\n",
        "        error_log_train.write(\"%s resulted in error\\n\" %name)\n",
        "        \n",
        "error_log_train.close()"
      ],
      "id": "e47c1038",
      "execution_count": null,
      "outputs": []
    },
    {
      "cell_type": "markdown",
      "metadata": {
        "id": "a33263aa"
      },
      "source": [
        "### Copy the right pictures into new files"
      ],
      "id": "a33263aa"
    },
    {
      "cell_type": "code",
      "metadata": {
        "id": "c025c73e",
        "outputId": "cc4db6ee-2b9f-4523-c90b-4f627a394b71"
      },
      "source": [
        "# Commented to avoid long runtimes\n",
        "\"\"\"\n",
        "for name in imgLabelNameTest:\n",
        "    oldPath = \"DS1\\TestData\\\\\" + name +\".JPG\"\n",
        "    newPath = \"DS1_new\\images\\TestData\\\\\" + name + \".JPG\"\n",
        "    copyfile(oldPath, newPath)\n",
        "    \n",
        "for name in imgLabelNameTrain:\n",
        "    oldPath = \"DS1\\TrainData\\PositiveData\\\\\" + name +\".JPG\"\n",
        "    newPath = \"DS1_new\\images\\TrainData\\\\\" + name + \".JPG\"\n",
        "    copyfile(oldPath, newPath)\n",
        "\"\"\""
      ],
      "id": "c025c73e",
      "execution_count": null,
      "outputs": [
        {
          "output_type": "execute_result",
          "data": {
            "text/plain": [
              "'\\nfor name in imgLabelNameTest:\\n    oldPath = \"DS1\\\\TestData\\\\\" + name +\".JPG\"\\n    newPath = \"DS1_new\\\\images\\\\TestData\\\\\" + name + \".JPG\"\\n    copyfile(oldPath, newPath)\\n    \\nfor name in imgLabelNameTrain:\\n    oldPath = \"DS1\\\\TrainData\\\\PositiveData\\\\\" + name +\".JPG\"\\n    newPath = \"DS1_new\\\\images\\\\TrainData\\\\\" + name + \".JPG\"\\n    copyfile(oldPath, newPath)\\n'"
            ]
          },
          "metadata": {
            "tags": []
          },
          "execution_count": 6
        }
      ]
    },
    {
      "cell_type": "code",
      "metadata": {
        "id": "582a6ce0",
        "outputId": "ea665c19-53b3-450b-de33-cc406c49e3f5"
      },
      "source": [
        "convertedLabels = len(imgLabelNameTest)+len(imgLabelNameTrain)\n",
        "print(\"Total images&labels converted to YOLO format: %d\" %convertedLabels)"
      ],
      "id": "582a6ce0",
      "execution_count": null,
      "outputs": [
        {
          "output_type": "stream",
          "text": [
            "Total images&labels converted to YOLO format: 2030\n"
          ],
          "name": "stdout"
        }
      ]
    },
    {
      "cell_type": "markdown",
      "metadata": {
        "id": "2fa5f4a7"
      },
      "source": [
        "## DS2 Removal of Dublicates"
      ],
      "id": "2fa5f4a7"
    },
    {
      "cell_type": "code",
      "metadata": {
        "id": "5e03db73"
      },
      "source": [
        "# create a list of images without dublicates (training data)\n",
        "\n",
        "path = \"DS2\\\\training\\\\images\"\n",
        "files = os.listdir(path)\n",
        "\n",
        "pictureNumber=[]\n",
        "for f in files:\n",
        "    pictureNumber.append(int(f.replace(\"_png\",\"\").replace(\"potholes\",\"\").split(\".\")[0]))\n",
        "\n",
        "imagesWithoutDublicates=[]\n",
        "imagesWithoutDublicates.append(files[0])  # necessary because switches \n",
        "for i in range(1,len(pictureNumber)):\n",
        "    if  pictureNumber[i] != pictureNumber[i-1]:\n",
        "        imagesWithoutDublicates.append(files[i])"
      ],
      "id": "5e03db73",
      "execution_count": null,
      "outputs": []
    },
    {
      "cell_type": "code",
      "metadata": {
        "id": "7131b782",
        "outputId": "05525085-0b9f-4cfe-dc92-4627f0e4d3e6"
      },
      "source": [
        "# Copy all chosen images into new folder\n",
        "\"\"\"\n",
        "for name in imagesWithoutDublicates:\n",
        "    oldPath = \"DS2\\training\\images\\\\\"+ name\n",
        "    newPath = \"DS2_new\\training\\images\\\\\"+ name\n",
        "    copyfile(oldPath, newPath)\n",
        "\"\"\""
      ],
      "id": "7131b782",
      "execution_count": null,
      "outputs": [
        {
          "output_type": "execute_result",
          "data": {
            "text/plain": [
              "'\\nfor name in imagesWithoutDublicates:\\n    oldPath = \"DS2\\training\\\\images\\\\\"+ name\\n    newPath = \"DS2_new\\training\\\\images\\\\\"+ name\\n    copyfile(oldPath, newPath)\\n'"
            ]
          },
          "metadata": {
            "tags": []
          },
          "execution_count": 9
        }
      ]
    },
    {
      "cell_type": "code",
      "metadata": {
        "id": "93d81fe7",
        "outputId": "93443076-6681-43a4-b4f6-6b623498493d"
      },
      "source": [
        "# Copy the labels for the chosen images\n",
        "\"\"\"\n",
        "for name in imagesWithoutDublicates:\n",
        "    oldPath = \"DS2\\training\\labels\\\\\"+ name.replace(\".jpg\", \".txt\")\n",
        "    newPath = \"DS2_new\\training\\labels\\\\\"+ name.replace(\".jpg\", \".txt\")\n",
        "    copyfile(oldPath, newPath)\n",
        "\"\"\""
      ],
      "id": "93d81fe7",
      "execution_count": null,
      "outputs": [
        {
          "output_type": "execute_result",
          "data": {
            "text/plain": [
              "'\\nfor name in imagesWithoutDublicates:\\n    oldPath = \"DS2\\training\\\\labels\\\\\"+ name.replace(\".jpg\", \".txt\")\\n    newPath = \"DS2_new\\training\\\\labels\\\\\"+ name.replace(\".jpg\", \".txt\")\\n    copyfile(oldPath, newPath)\\n'"
            ]
          },
          "metadata": {
            "tags": []
          },
          "execution_count": 10
        }
      ]
    },
    {
      "cell_type": "code",
      "metadata": {
        "id": "152c3135",
        "outputId": "3ea643b5-dac7-42ab-a8dc-841b90d0a9b9"
      },
      "source": [
        "# Copy test data (no dublicates)\n",
        "\"\"\"\n",
        "files = os.listdir(\"DS2\\test\\images\")\n",
        "    for file in files:\n",
        "        oldPath =  path + \"\\\\\" + file\n",
        "        newPath = \"DS2_new\\test\\images\\\\\" + file\n",
        "        copyfile(oldPath, newPath)\n",
        "        \n",
        "files = os.listdir(\"DS2\\test\\labels\")\n",
        "    for file in files:\n",
        "        oldPath =  path + \"\\\\\" + file\n",
        "        newPath = \"DS2_new\\test\\labels\\\\\" + file\n",
        "        copyfile(oldPath, newPath)\n",
        "\"\"\""
      ],
      "id": "152c3135",
      "execution_count": null,
      "outputs": [
        {
          "output_type": "execute_result",
          "data": {
            "text/plain": [
              "'\\nfiles = os.listdir(\"DS2\\test\\\\images\")\\n    for file in files:\\n        oldPath =  path + \"\\\\\" + file\\n        newPath = \"DS2_new\\test\\\\images\\\\\" + file\\n        copyfile(oldPath, newPath)\\n        \\nfiles = os.listdir(\"DS2\\test\\\\labels\")\\n    for file in files:\\n        oldPath =  path + \"\\\\\" + file\\n        newPath = \"DS2_new\\test\\\\labels\\\\\" + file\\n        copyfile(oldPath, newPath)\\n'"
            ]
          },
          "metadata": {
            "tags": []
          },
          "execution_count": 11
        }
      ]
    },
    {
      "cell_type": "markdown",
      "metadata": {
        "id": "cbaee7b1"
      },
      "source": [
        "## Merge all Data together"
      ],
      "id": "cbaee7b1"
    },
    {
      "cell_type": "code",
      "metadata": {
        "id": "0b422582",
        "outputId": "27b6da62-408a-4f9f-b12a-c7444116c008"
      },
      "source": [
        "# Create final dataset (without train-test split)\n",
        "\n",
        "#  Get images:\n",
        "path1 = \"DS1_new\\images\\TestData\"\n",
        "path2 = \"DS1_new\\images\\TrainData\"\n",
        "path3 = \"DS2_new\\training\\images\"\n",
        "path4 = \"DS2_new\\test\\images\"\n",
        "\n",
        "#get labels\n",
        "path5 = \"DS1_new\\labels\\Test\"\n",
        "path6 = \"DS1_new\\labels\\Train\"\n",
        "path7 = \"DS2_new\\training\\labels\"\n",
        "path8 = \"DS2_new\\test\\labels\"\n",
        "\n",
        "imagepath = [path1, path2, path3, path4]\n",
        "labelpath = [path5, path6, path7, path8]\n",
        "\n",
        "\"\"\"\n",
        "for path in imagepath:\n",
        "    files = os.listdir(path)\n",
        "    for file in files:\n",
        "        oldPath =  path + \"\\\\\" + file\n",
        "        newPath = \"Dataset_final\\images\\\\\" + file\n",
        "        copyfile(oldPath, newPath)\n",
        "      \n",
        "for path in labelpath:\n",
        "    files = os.listdir(path)\n",
        "    for file in files:\n",
        "        oldPath =  path + \"\\\\\" + file\n",
        "        newPath = \"Dataset_final\\labels\\\\\" + file\n",
        "        copyfile(oldPath, newPath)\n",
        "\"\"\""
      ],
      "id": "0b422582",
      "execution_count": null,
      "outputs": [
        {
          "output_type": "execute_result",
          "data": {
            "text/plain": [
              "'\\nfor path in imagepath:\\n    files = os.listdir(path)\\n    for file in files:\\n        oldPath =  path + \"\\\\\" + file\\n        newPath = \"Dataset_final\\\\images\\\\\" + file\\n        copyfile(oldPath, newPath)\\n      \\nfor path in labelpath:\\n    files = os.listdir(path)\\n    for file in files:\\n        oldPath =  path + \"\\\\\" + file\\n        newPath = \"Dataset_final\\\\labels\\\\\" + file\\n        copyfile(oldPath, newPath)\\n'"
            ]
          },
          "metadata": {
            "tags": []
          },
          "execution_count": 12
        }
      ]
    }
  ]
}